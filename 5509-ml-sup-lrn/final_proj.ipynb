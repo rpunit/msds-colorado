{
 "cells": [
  {
   "cell_type": "markdown",
   "id": "6a714d6b-f711-4200-87a3-26f4432f0f7b",
   "metadata": {},
   "source": [
    "#  Looking for Fraud \n",
    "\n",
    "This notebook uses credit card transactions dataset to look for fraud. "
   ]
  },
  {
   "cell_type": "code",
   "execution_count": 1,
   "id": "01b0ea77-e6c0-47d1-8af9-894b5819593e",
   "metadata": {},
   "outputs": [
    {
     "data": {
      "text/html": [
       "<div>\n",
       "<style scoped>\n",
       "    .dataframe tbody tr th:only-of-type {\n",
       "        vertical-align: middle;\n",
       "    }\n",
       "\n",
       "    .dataframe tbody tr th {\n",
       "        vertical-align: top;\n",
       "    }\n",
       "\n",
       "    .dataframe thead th {\n",
       "        text-align: right;\n",
       "    }\n",
       "</style>\n",
       "<table border=\"1\" class=\"dataframe\">\n",
       "  <thead>\n",
       "    <tr style=\"text-align: right;\">\n",
       "      <th></th>\n",
       "      <th>Time</th>\n",
       "      <th>V1</th>\n",
       "      <th>V2</th>\n",
       "      <th>V3</th>\n",
       "      <th>V4</th>\n",
       "      <th>V5</th>\n",
       "      <th>V6</th>\n",
       "      <th>V7</th>\n",
       "      <th>V8</th>\n",
       "      <th>V9</th>\n",
       "      <th>...</th>\n",
       "      <th>V21</th>\n",
       "      <th>V22</th>\n",
       "      <th>V23</th>\n",
       "      <th>V24</th>\n",
       "      <th>V25</th>\n",
       "      <th>V26</th>\n",
       "      <th>V27</th>\n",
       "      <th>V28</th>\n",
       "      <th>Amount</th>\n",
       "      <th>Class</th>\n",
       "    </tr>\n",
       "  </thead>\n",
       "  <tbody>\n",
       "    <tr>\n",
       "      <th>0</th>\n",
       "      <td>0.0</td>\n",
       "      <td>-1.359807</td>\n",
       "      <td>-0.072781</td>\n",
       "      <td>2.536347</td>\n",
       "      <td>1.378155</td>\n",
       "      <td>-0.338321</td>\n",
       "      <td>0.462388</td>\n",
       "      <td>0.239599</td>\n",
       "      <td>0.098698</td>\n",
       "      <td>0.363787</td>\n",
       "      <td>...</td>\n",
       "      <td>-0.018307</td>\n",
       "      <td>0.277838</td>\n",
       "      <td>-0.110474</td>\n",
       "      <td>0.066928</td>\n",
       "      <td>0.128539</td>\n",
       "      <td>-0.189115</td>\n",
       "      <td>0.133558</td>\n",
       "      <td>-0.021053</td>\n",
       "      <td>149.62</td>\n",
       "      <td>0</td>\n",
       "    </tr>\n",
       "    <tr>\n",
       "      <th>1</th>\n",
       "      <td>0.0</td>\n",
       "      <td>1.191857</td>\n",
       "      <td>0.266151</td>\n",
       "      <td>0.166480</td>\n",
       "      <td>0.448154</td>\n",
       "      <td>0.060018</td>\n",
       "      <td>-0.082361</td>\n",
       "      <td>-0.078803</td>\n",
       "      <td>0.085102</td>\n",
       "      <td>-0.255425</td>\n",
       "      <td>...</td>\n",
       "      <td>-0.225775</td>\n",
       "      <td>-0.638672</td>\n",
       "      <td>0.101288</td>\n",
       "      <td>-0.339846</td>\n",
       "      <td>0.167170</td>\n",
       "      <td>0.125895</td>\n",
       "      <td>-0.008983</td>\n",
       "      <td>0.014724</td>\n",
       "      <td>2.69</td>\n",
       "      <td>0</td>\n",
       "    </tr>\n",
       "    <tr>\n",
       "      <th>2</th>\n",
       "      <td>1.0</td>\n",
       "      <td>-1.358354</td>\n",
       "      <td>-1.340163</td>\n",
       "      <td>1.773209</td>\n",
       "      <td>0.379780</td>\n",
       "      <td>-0.503198</td>\n",
       "      <td>1.800499</td>\n",
       "      <td>0.791461</td>\n",
       "      <td>0.247676</td>\n",
       "      <td>-1.514654</td>\n",
       "      <td>...</td>\n",
       "      <td>0.247998</td>\n",
       "      <td>0.771679</td>\n",
       "      <td>0.909412</td>\n",
       "      <td>-0.689281</td>\n",
       "      <td>-0.327642</td>\n",
       "      <td>-0.139097</td>\n",
       "      <td>-0.055353</td>\n",
       "      <td>-0.059752</td>\n",
       "      <td>378.66</td>\n",
       "      <td>0</td>\n",
       "    </tr>\n",
       "    <tr>\n",
       "      <th>3</th>\n",
       "      <td>1.0</td>\n",
       "      <td>-0.966272</td>\n",
       "      <td>-0.185226</td>\n",
       "      <td>1.792993</td>\n",
       "      <td>-0.863291</td>\n",
       "      <td>-0.010309</td>\n",
       "      <td>1.247203</td>\n",
       "      <td>0.237609</td>\n",
       "      <td>0.377436</td>\n",
       "      <td>-1.387024</td>\n",
       "      <td>...</td>\n",
       "      <td>-0.108300</td>\n",
       "      <td>0.005274</td>\n",
       "      <td>-0.190321</td>\n",
       "      <td>-1.175575</td>\n",
       "      <td>0.647376</td>\n",
       "      <td>-0.221929</td>\n",
       "      <td>0.062723</td>\n",
       "      <td>0.061458</td>\n",
       "      <td>123.50</td>\n",
       "      <td>0</td>\n",
       "    </tr>\n",
       "    <tr>\n",
       "      <th>4</th>\n",
       "      <td>2.0</td>\n",
       "      <td>-1.158233</td>\n",
       "      <td>0.877737</td>\n",
       "      <td>1.548718</td>\n",
       "      <td>0.403034</td>\n",
       "      <td>-0.407193</td>\n",
       "      <td>0.095921</td>\n",
       "      <td>0.592941</td>\n",
       "      <td>-0.270533</td>\n",
       "      <td>0.817739</td>\n",
       "      <td>...</td>\n",
       "      <td>-0.009431</td>\n",
       "      <td>0.798278</td>\n",
       "      <td>-0.137458</td>\n",
       "      <td>0.141267</td>\n",
       "      <td>-0.206010</td>\n",
       "      <td>0.502292</td>\n",
       "      <td>0.219422</td>\n",
       "      <td>0.215153</td>\n",
       "      <td>69.99</td>\n",
       "      <td>0</td>\n",
       "    </tr>\n",
       "  </tbody>\n",
       "</table>\n",
       "<p>5 rows × 31 columns</p>\n",
       "</div>"
      ],
      "text/plain": [
       "   Time        V1        V2        V3        V4        V5        V6        V7  \\\n",
       "0   0.0 -1.359807 -0.072781  2.536347  1.378155 -0.338321  0.462388  0.239599   \n",
       "1   0.0  1.191857  0.266151  0.166480  0.448154  0.060018 -0.082361 -0.078803   \n",
       "2   1.0 -1.358354 -1.340163  1.773209  0.379780 -0.503198  1.800499  0.791461   \n",
       "3   1.0 -0.966272 -0.185226  1.792993 -0.863291 -0.010309  1.247203  0.237609   \n",
       "4   2.0 -1.158233  0.877737  1.548718  0.403034 -0.407193  0.095921  0.592941   \n",
       "\n",
       "         V8        V9  ...       V21       V22       V23       V24       V25  \\\n",
       "0  0.098698  0.363787  ... -0.018307  0.277838 -0.110474  0.066928  0.128539   \n",
       "1  0.085102 -0.255425  ... -0.225775 -0.638672  0.101288 -0.339846  0.167170   \n",
       "2  0.247676 -1.514654  ...  0.247998  0.771679  0.909412 -0.689281 -0.327642   \n",
       "3  0.377436 -1.387024  ... -0.108300  0.005274 -0.190321 -1.175575  0.647376   \n",
       "4 -0.270533  0.817739  ... -0.009431  0.798278 -0.137458  0.141267 -0.206010   \n",
       "\n",
       "        V26       V27       V28  Amount  Class  \n",
       "0 -0.189115  0.133558 -0.021053  149.62      0  \n",
       "1  0.125895 -0.008983  0.014724    2.69      0  \n",
       "2 -0.139097 -0.055353 -0.059752  378.66      0  \n",
       "3 -0.221929  0.062723  0.061458  123.50      0  \n",
       "4  0.502292  0.219422  0.215153   69.99      0  \n",
       "\n",
       "[5 rows x 31 columns]"
      ]
     },
     "execution_count": 1,
     "metadata": {},
     "output_type": "execute_result"
    }
   ],
   "source": [
    "import pandas as pd\n",
    "import numpy as np\n",
    "\n",
    "# https://www.kaggle.com/code/pierra/credit-card-dataset-svm-classification/input?select=creditcard.csv\n",
    "df = pd.read_csv('./creditcard.csv.zip')\n",
    "df.head()"
   ]
  },
  {
   "cell_type": "markdown",
   "id": "bae2175a-ad8b-4c07-b5b2-d36565acddff",
   "metadata": {},
   "source": [
    "## The Dataset\n",
    "The credit card dataset is from *kaggle*. The datasets contains transactions made by credit cards in September 2013 by european cardholders.\n",
    "This dataset presents transactions that occurred in two days, where we have 492 frauds out of 284,807 transactions. The dataset is highly unbalanced, the positive class (frauds) account for 0.172% of all transactions.\n",
    "\n",
    "Note that the colums V1 to V28 are colums that are arrived after PCA has been performed on the original dataset. This is both for efficiency and privacy reasons. The only real data colums are Time and Amount. The class tells you weather the data is fraud (Class = 1) or not (Class = 0)\n",
    "\n",
    "## EDA and preporcessing"
   ]
  },
  {
   "cell_type": "code",
   "execution_count": 2,
   "id": "6208e34b-f84f-4b2f-a2fa-1d3bbec0259f",
   "metadata": {},
   "outputs": [
    {
     "name": "stdout",
     "output_type": "stream",
     "text": [
      " No of fraud cases : (492, 31)\n",
      " No of non-fraud cases : (284315, 31)\n",
      " Percent of frauld cases : 0.17304750013189596\n"
     ]
    }
   ],
   "source": [
    "print(f\" No of fraud cases : {df[df['Class'] == 1].shape}\")\n",
    "print(f\" No of non-fraud cases : {df[df['Class'] == 0].shape}\")\n",
    "print(f\" Percent of frauld cases : {df[df['Class'] == 1].shape[0]/df[df['Class'] == 0].shape[0]*100}\")"
   ]
  },
  {
   "cell_type": "markdown",
   "id": "fa0b547d-cd1e-41df-b4a7-ed58eca97838",
   "metadata": {},
   "source": [
    "As seen above this is higly unbalanced dataset and any machile learning algorithm will perform exceptionally well by just marking everything \n",
    "\n",
    "as not-fraud. We can solve this by either oversamplling or undersampling. We try the undersampling approach."
   ]
  },
  {
   "cell_type": "code",
   "execution_count": 2,
   "id": "0d20a2db-bf81-45aa-afdb-2a347dd540db",
   "metadata": {},
   "outputs": [
    {
     "data": {
      "text/html": [
       "<div>\n",
       "<style scoped>\n",
       "    .dataframe tbody tr th:only-of-type {\n",
       "        vertical-align: middle;\n",
       "    }\n",
       "\n",
       "    .dataframe tbody tr th {\n",
       "        vertical-align: top;\n",
       "    }\n",
       "\n",
       "    .dataframe thead th {\n",
       "        text-align: right;\n",
       "    }\n",
       "</style>\n",
       "<table border=\"1\" class=\"dataframe\">\n",
       "  <thead>\n",
       "    <tr style=\"text-align: right;\">\n",
       "      <th></th>\n",
       "      <th>Time</th>\n",
       "      <th>V1</th>\n",
       "      <th>V2</th>\n",
       "      <th>V3</th>\n",
       "      <th>V4</th>\n",
       "      <th>V5</th>\n",
       "      <th>V6</th>\n",
       "      <th>V7</th>\n",
       "      <th>V8</th>\n",
       "      <th>V9</th>\n",
       "      <th>...</th>\n",
       "      <th>V21</th>\n",
       "      <th>V22</th>\n",
       "      <th>V23</th>\n",
       "      <th>V24</th>\n",
       "      <th>V25</th>\n",
       "      <th>V26</th>\n",
       "      <th>V27</th>\n",
       "      <th>V28</th>\n",
       "      <th>Amount</th>\n",
       "      <th>Class</th>\n",
       "    </tr>\n",
       "  </thead>\n",
       "  <tbody>\n",
       "    <tr>\n",
       "      <th>0</th>\n",
       "      <td>88672.0</td>\n",
       "      <td>-3.859881</td>\n",
       "      <td>2.632881</td>\n",
       "      <td>-5.264265</td>\n",
       "      <td>3.446113</td>\n",
       "      <td>-0.675231</td>\n",
       "      <td>-1.904959</td>\n",
       "      <td>-3.291041</td>\n",
       "      <td>-0.985766</td>\n",
       "      <td>-1.168114</td>\n",
       "      <td>...</td>\n",
       "      <td>1.664119</td>\n",
       "      <td>0.785075</td>\n",
       "      <td>0.068412</td>\n",
       "      <td>0.778961</td>\n",
       "      <td>-0.863166</td>\n",
       "      <td>-0.006810</td>\n",
       "      <td>-1.065734</td>\n",
       "      <td>1.773326</td>\n",
       "      <td>1.18</td>\n",
       "      <td>1</td>\n",
       "    </tr>\n",
       "    <tr>\n",
       "      <th>1</th>\n",
       "      <td>67150.0</td>\n",
       "      <td>-1.824295</td>\n",
       "      <td>0.403327</td>\n",
       "      <td>-1.994122</td>\n",
       "      <td>2.756558</td>\n",
       "      <td>-3.139064</td>\n",
       "      <td>0.408185</td>\n",
       "      <td>-1.209045</td>\n",
       "      <td>1.095634</td>\n",
       "      <td>-1.447225</td>\n",
       "      <td>...</td>\n",
       "      <td>0.838760</td>\n",
       "      <td>0.341727</td>\n",
       "      <td>0.947506</td>\n",
       "      <td>-0.145493</td>\n",
       "      <td>0.049326</td>\n",
       "      <td>0.831065</td>\n",
       "      <td>0.332421</td>\n",
       "      <td>0.252713</td>\n",
       "      <td>489.71</td>\n",
       "      <td>1</td>\n",
       "    </tr>\n",
       "    <tr>\n",
       "      <th>2</th>\n",
       "      <td>58222.0</td>\n",
       "      <td>-1.322789</td>\n",
       "      <td>1.552768</td>\n",
       "      <td>-2.276921</td>\n",
       "      <td>2.992117</td>\n",
       "      <td>-1.947064</td>\n",
       "      <td>-0.480288</td>\n",
       "      <td>-1.362388</td>\n",
       "      <td>0.953242</td>\n",
       "      <td>-2.329629</td>\n",
       "      <td>...</td>\n",
       "      <td>0.614969</td>\n",
       "      <td>-0.195200</td>\n",
       "      <td>0.590711</td>\n",
       "      <td>-0.233378</td>\n",
       "      <td>-0.164285</td>\n",
       "      <td>-0.277498</td>\n",
       "      <td>0.428610</td>\n",
       "      <td>0.246394</td>\n",
       "      <td>270.00</td>\n",
       "      <td>1</td>\n",
       "    </tr>\n",
       "    <tr>\n",
       "      <th>3</th>\n",
       "      <td>155542.0</td>\n",
       "      <td>1.868226</td>\n",
       "      <td>1.363077</td>\n",
       "      <td>-1.994934</td>\n",
       "      <td>4.173516</td>\n",
       "      <td>1.239751</td>\n",
       "      <td>-0.746186</td>\n",
       "      <td>0.572731</td>\n",
       "      <td>-0.131235</td>\n",
       "      <td>-1.551839</td>\n",
       "      <td>...</td>\n",
       "      <td>-0.301001</td>\n",
       "      <td>-0.818972</td>\n",
       "      <td>0.206812</td>\n",
       "      <td>-0.263683</td>\n",
       "      <td>-0.114958</td>\n",
       "      <td>-0.240672</td>\n",
       "      <td>-0.006629</td>\n",
       "      <td>0.017258</td>\n",
       "      <td>3.14</td>\n",
       "      <td>1</td>\n",
       "    </tr>\n",
       "    <tr>\n",
       "      <th>4</th>\n",
       "      <td>141236.0</td>\n",
       "      <td>0.008032</td>\n",
       "      <td>0.750098</td>\n",
       "      <td>0.130192</td>\n",
       "      <td>-0.794002</td>\n",
       "      <td>0.645495</td>\n",
       "      <td>-0.489640</td>\n",
       "      <td>0.878717</td>\n",
       "      <td>0.010075</td>\n",
       "      <td>-0.225209</td>\n",
       "      <td>...</td>\n",
       "      <td>-0.229650</td>\n",
       "      <td>-0.539110</td>\n",
       "      <td>0.033256</td>\n",
       "      <td>-0.483640</td>\n",
       "      <td>-0.490937</td>\n",
       "      <td>0.151731</td>\n",
       "      <td>0.241494</td>\n",
       "      <td>0.082352</td>\n",
       "      <td>8.90</td>\n",
       "      <td>0</td>\n",
       "    </tr>\n",
       "  </tbody>\n",
       "</table>\n",
       "<p>5 rows × 31 columns</p>\n",
       "</div>"
      ],
      "text/plain": [
       "       Time        V1        V2        V3        V4        V5        V6  \\\n",
       "0   88672.0 -3.859881  2.632881 -5.264265  3.446113 -0.675231 -1.904959   \n",
       "1   67150.0 -1.824295  0.403327 -1.994122  2.756558 -3.139064  0.408185   \n",
       "2   58222.0 -1.322789  1.552768 -2.276921  2.992117 -1.947064 -0.480288   \n",
       "3  155542.0  1.868226  1.363077 -1.994934  4.173516  1.239751 -0.746186   \n",
       "4  141236.0  0.008032  0.750098  0.130192 -0.794002  0.645495 -0.489640   \n",
       "\n",
       "         V7        V8        V9  ...       V21       V22       V23       V24  \\\n",
       "0 -3.291041 -0.985766 -1.168114  ...  1.664119  0.785075  0.068412  0.778961   \n",
       "1 -1.209045  1.095634 -1.447225  ...  0.838760  0.341727  0.947506 -0.145493   \n",
       "2 -1.362388  0.953242 -2.329629  ...  0.614969 -0.195200  0.590711 -0.233378   \n",
       "3  0.572731 -0.131235 -1.551839  ... -0.301001 -0.818972  0.206812 -0.263683   \n",
       "4  0.878717  0.010075 -0.225209  ... -0.229650 -0.539110  0.033256 -0.483640   \n",
       "\n",
       "        V25       V26       V27       V28  Amount  Class  \n",
       "0 -0.863166 -0.006810 -1.065734  1.773326    1.18      1  \n",
       "1  0.049326  0.831065  0.332421  0.252713  489.71      1  \n",
       "2 -0.164285 -0.277498  0.428610  0.246394  270.00      1  \n",
       "3 -0.114958 -0.240672 -0.006629  0.017258    3.14      1  \n",
       "4 -0.490937  0.151731  0.241494  0.082352    8.90      0  \n",
       "\n",
       "[5 rows x 31 columns]"
      ]
     },
     "execution_count": 2,
     "metadata": {},
     "output_type": "execute_result"
    }
   ],
   "source": [
    "import random\n",
    "df_fraud = df[df['Class'] == 1]\n",
    "df_nofraud = df[df['Class'] == 0]\n",
    "df_sampled = df_nofraud.sample(400)\n",
    "random.seed(42)\n",
    "df_shuf = df.iloc[np.random.permutation(pd.concat((df_fraud, df_sampled)).index)].reset_index()\n",
    "df_shuf.drop(['index'], axis=1, inplace=True)\n",
    "df_shuf.head()"
   ]
  },
  {
   "cell_type": "markdown",
   "id": "073ffbd0-72ba-4802-9d1d-a08c5057a601",
   "metadata": {},
   "source": [
    "  Lets plot the correlation between the colums. As see below the seems to be little correlation between the columns "
   ]
  },
  {
   "cell_type": "markdown",
   "id": "dba84e50-95b3-4548-b136-effc1d909d55",
   "metadata": {},
   "source": [
    "## Visualizing the Correlation"
   ]
  },
  {
   "cell_type": "code",
   "execution_count": 3,
   "id": "ca476052-19be-49a1-83d6-831967a81386",
   "metadata": {},
   "outputs": [
    {
     "data": {
      "image/png": "[encoded data removed]",
      "text/plain": [
       "<Figure size 1000x1000 with 2 Axes>"
      ]
     },
     "metadata": {},
     "output_type": "display_data"
    }
   ],
   "source": [
    "# Matplotlib library to plot the charts\n",
    "import matplotlib.pyplot as plt\n",
    "import matplotlib.mlab as mlab\n",
    "\n",
    "# Library for the statistic data vizualisation\n",
    "import seaborn\n",
    "\n",
    "%matplotlib inline\n",
    "\n",
    "df_corr = df_shuf.corr()\n",
    "plt.figure(figsize=(10,10))\n",
    "seaborn.heatmap(df_corr, cmap='YlGnBu') # Displaying the Heatmap\n",
    "seaborn.set(font_scale=2,style='white')\n",
    "\n",
    "plt.title('Heatmap correlation')\n",
    "plt.show()\n"
   ]
  },
  {
   "cell_type": "markdown",
   "id": "0c63e966-537e-4c5d-a8f6-5b07d867478a",
   "metadata": {},
   "source": [
    "As seen above there seems to be some correlation between variables, but removing them led to lower accuracy"
   ]
  },
  {
   "cell_type": "code",
   "execution_count": 4,
   "id": "28fc97c3-85b7-4f86-8508-e03bc454ea57",
   "metadata": {},
   "outputs": [
    {
     "name": "stdout",
     "output_type": "stream",
     "text": [
      "X_train len = (669, 29), X_test shape (223, 29)\n"
     ]
    }
   ],
   "source": [
    "from sklearn.model_selection import train_test_split\n",
    "\n",
    "X = df_shuf.drop(['Class', 'Time'], axis=1)  # Time is not important\n",
    "y = df_shuf['Class']\n",
    "\n",
    "X_train, X_test, y_train, y_test = train_test_split(\n",
    "    X, y, test_size=0.25, random_state=42)\n",
    "\n",
    "print(f'X_train len = {X_train.shape}, X_test shape {X_test.shape}')\n"
   ]
  },
  {
   "cell_type": "markdown",
   "id": "9fce0e76-a3ae-4a08-a533-e102cde518a8",
   "metadata": {},
   "source": [
    "## Logistic Regression\n",
    "Lets create a baseline model with logistic regression. This will be the floor that we'll try to beat with SVM or other models."
   ]
  },
  {
   "cell_type": "code",
   "execution_count": 53,
   "id": "11f73118-ee48-431d-98d9-0de778abb7dc",
   "metadata": {},
   "outputs": [
    {
     "data": {
      "text/plain": [
       "0.9327354260089686"
      ]
     },
     "execution_count": 53,
     "metadata": {},
     "output_type": "execute_result"
    }
   ],
   "source": [
    "from sklearn.linear_model import LogisticRegression\n",
    "from sklearn import preprocessing\n",
    "# Preprocess to avoid scaling issues\n",
    "scaler = preprocessing.StandardScaler().fit(X)\n",
    "X_scaled = scaler.transform(X)\n",
    "\n",
    "X_train, X_test, y_train, y_test = train_test_split(\n",
    "    X, y, test_size=0.25, random_state=42)\n",
    "X_train_scaled, X_test_scaled, y_train_scaled, y_test_scaled = train_test_split(\n",
    "    X_scaled, y, test_size=0.25, random_state=42)\n",
    "clf_log = LogisticRegression(random_state=0).fit(X_train_scaled, y_train_scaled)\n",
    "clf_log.score(X_test_scaled, y_test_scaled)"
   ]
  },
  {
   "cell_type": "markdown",
   "id": "652017e3-75d1-4959-9dec-c4904faa25c0",
   "metadata": {},
   "source": [
    "We get an amazing 93% accuracy with the base model. Lets visualize the confusion matrix\n",
    "\n",
    "### Confusion Matrix"
   ]
  },
  {
   "cell_type": "code",
   "execution_count": 55,
   "id": "37139b94-832c-4e0a-a44b-140b9b22feeb",
   "metadata": {},
   "outputs": [
    {
     "data": {
      "image/png": "[encoded data removed]",
      "text/plain": [
       "<Figure size 640x480 with 2 Axes>"
      ]
     },
     "metadata": {},
     "output_type": "display_data"
    }
   ],
   "source": [
    "from sklearn.metrics import confusion_matrix, ConfusionMatrixDisplay\n",
    "y_hat = clf_log.predict(X_test_scaled)\n",
    "cm = confusion_matrix(y_test, y_hat, labels=clf_log.classes_)\n",
    "disp = ConfusionMatrixDisplay(confusion_matrix=cm,\n",
    "                              display_labels=clf_log.classes_)\n",
    "disp.plot()\n",
    "plt.show()"
   ]
  },
  {
   "cell_type": "markdown",
   "id": "672d01ec-8005-4744-9090-5389a7cdf479",
   "metadata": {},
   "source": [
    "## Trying out More complex models. \n",
    "### Linear SVC"
   ]
  },
  {
   "cell_type": "code",
   "execution_count": 57,
   "id": "8c1f81cd-1af4-44f0-b247-01db73b7545b",
   "metadata": {},
   "outputs": [
    {
     "data": {
      "text/plain": [
       "0.9103139013452914"
      ]
     },
     "execution_count": 57,
     "metadata": {},
     "output_type": "execute_result"
    }
   ],
   "source": [
    "from sklearn.svm import LinearSVC\n",
    "clf_lsvc = LinearSVC(random_state=0).fit(X_train, y_train)\n",
    "clf_lsvc.score(X_test, y_test)"
   ]
  },
  {
   "cell_type": "markdown",
   "id": "e1b94f95-f0c5-45e0-83c2-4843132b528c",
   "metadata": {},
   "source": [
    "We don't see much of an improvement over the logistic regression case.\n",
    "We can try the Grid Search Co-Validation with 10 folds for LinearSVC to see if we can do any better.\n",
    "### Grid Search"
   ]
  },
  {
   "cell_type": "code",
   "execution_count": 60,
   "id": "645b8f7d-091d-42e1-b850-09ece3a448c7",
   "metadata": {},
   "outputs": [
    {
     "name": "stdout",
     "output_type": "stream",
     "text": [
      "0.9439450686641697\n",
      "{'C': 7}\n"
     ]
    }
   ],
   "source": [
    "from sklearn.model_selection import cross_val_score, GridSearchCV\n",
    "grid=None # ToDo: replace it to proper GridSearchCV object and run the grid search with cross validation\n",
    "C = list(range(1,10))\n",
    "params = {'C':C}\n",
    "# dual = False to avoid the warnings\n",
    "grid = GridSearchCV(LinearSVC(dual=False), params, cv=10)\n",
    "grid.fit(X, y)\n",
    "print(grid.best_score_)\n",
    "print(grid.best_params_)"
   ]
  },
  {
   "cell_type": "markdown",
   "id": "78a6915d-f914-40ba-ad83-621a7222fb75",
   "metadata": {},
   "source": [
    "We got slightly better results with LinearSVC\n",
    "\n",
    "### GridSearchCV with rbf"
   ]
  },
  {
   "cell_type": "code",
   "execution_count": 61,
   "id": "fc7b3c6c-6618-4660-a63d-6764230d04f0",
   "metadata": {},
   "outputs": [
    {
     "name": "stdout",
     "output_type": "stream",
     "text": [
      "0.9350062421972535\n",
      "{'C': 0.5, 'gamma': 0.0625, 'kernel': 'rbf'}\n"
     ]
    }
   ],
   "source": [
    "from sklearn.svm import SVC\n",
    "\n",
    "values = [2**x for x in range(-5, 5)]\n",
    "#params = {'kernel': [ 'linear', 'poly', 'rbf'], 'gamma': values, 'C':values}\n",
    "params = {'kernel': [ 'rbf'], 'gamma': values, 'C':values}\n",
    "\n",
    "grid = GridSearchCV(SVC(), params, cv=10)\n",
    "grid.fit(X_scaled, y)\n",
    "print(grid.best_score_)\n",
    "print(grid.best_params_)"
   ]
  },
  {
   "cell_type": "markdown",
   "id": "1c1bed19-d420-4670-b295-98104ca6c337",
   "metadata": {},
   "source": [
    "We don't do much better with a rbf kernel. Time to try something else\n",
    "### Gradient Boosting"
   ]
  },
  {
   "cell_type": "code",
   "execution_count": 63,
   "id": "cb301b23-0d96-4349-abac-133a964dbb9f",
   "metadata": {},
   "outputs": [
    {
     "name": "stdout",
     "output_type": "stream",
     "text": [
      "Fitting 3 folds for each of 162 candidates, totalling 486 fits\n",
      "0.9405953645327246\n",
      "{'learning_rate': 0.5, 'max_depth': 2, 'n_estimators': 100}\n"
     ]
    }
   ],
   "source": [
    "from sklearn.ensemble import GradientBoostingClassifier\n",
    "#clf = GradientBoostingClassifier(n_estimators=100, learning_rate=0.5,\n",
    "#    max_depth=3, random_state=0).fit(X_train, y_train)\n",
    "params = {'max_depth': list(range(1,10)), 'learning_rate': list(np.arange(.1,1,.1)), 'n_estimators':list(range(100,300,100))}\n",
    "\n",
    "grid = GridSearchCV(GradientBoostingClassifier(random_state=0), params, cv=3, verbose=True)\n",
    "grid.fit(X,y)\n",
    "\n",
    "print(grid.best_score_)\n",
    "print(grid.best_params_)"
   ]
  },
  {
   "cell_type": "markdown",
   "id": "18083f73-3fff-43d2-8ffc-31cbb1fa3615",
   "metadata": {},
   "source": [
    "## KNN"
   ]
  },
  {
   "cell_type": "code",
   "execution_count": 64,
   "id": "d6dfb5d6-fb2e-4d0e-b8d1-59d591dcf5a8",
   "metadata": {},
   "outputs": [
    {
     "name": "stdout",
     "output_type": "stream",
     "text": [
      "Fitting 3 folds for each of 72 candidates, totalling 216 fits\n",
      "0.896843151876709\n",
      "{'algorithm': 'auto', 'n_neighbors': 8, 'weights': 'distance'}\n"
     ]
    }
   ],
   "source": [
    "from sklearn.neighbors import KNeighborsClassifier\n",
    "neigh = KNeighborsClassifier(n_neighbors=3)\n",
    "params = {'n_neighbors': list(range(1,10)), 'algorithm' : ('auto', 'ball_tree', 'kd_tree', 'brute'), 'weights': ('uniform', 'distance')}\n",
    "\n",
    "grid = GridSearchCV(KNeighborsClassifier(), params, cv=3, verbose=True)\n",
    "grid.fit(X, y)\n",
    "\n",
    "print(grid.best_score_)\n",
    "print(grid.best_params_)"
   ]
  },
  {
   "cell_type": "markdown",
   "id": "ad2b56f9-4bed-4b05-90dc-4531a4b40afa",
   "metadata": {},
   "source": [
    "## Conclusion\n",
    "\n",
    "After trying on a bunch of simple to complex classifiers, We found that the LinearSVC had the best results, followed closely be LogisticRegression. Sometimes simplest models give you the best results.\n",
    "\n",
    "As a final Act we test the logistic regression on the entire dataset. The results are pretty astounding !"
   ]
  },
  {
   "cell_type": "code",
   "execution_count": 65,
   "id": "be8947f4-af2a-451e-a0d4-ba77080f8bf6",
   "metadata": {},
   "outputs": [
    {
     "data": {
      "text/plain": [
       "0.958659723953414"
      ]
     },
     "execution_count": 65,
     "metadata": {},
     "output_type": "execute_result"
    }
   ],
   "source": [
    "clf_lsvc = SVC(kernel='linear', C=7).fit(X, y)\n",
    "X_all = df.drop(['Time', 'Class'], axis=1)\n",
    "#scaler = preprocessing.StandardScaler().fit(X_all)\n",
    "#X_scaled_all = scaler.transform(X_all)\n",
    "y_all = df['Class']\n",
    "clf_lsvc.score(X_all, y_all)"
   ]
  },
  {
   "cell_type": "code",
   "execution_count": 66,
   "id": "efffff40-422f-4b7f-acd8-50363217feea",
   "metadata": {},
   "outputs": [
    {
     "name": "stdout",
     "output_type": "stream",
     "text": [
      "              precision    recall  f1-score   support\n",
      "\n",
      "           0       1.00      0.96      0.98    284315\n",
      "           1       0.04      0.93      0.07       492\n",
      "\n",
      "    accuracy                           0.96    284807\n",
      "   macro avg       0.52      0.94      0.53    284807\n",
      "weighted avg       1.00      0.96      0.98    284807\n",
      "\n"
     ]
    }
   ],
   "source": [
    "from sklearn.metrics import classification_report\n",
    "y_hat = clf_lsvc.predict(X_all)\n",
    "print(classification_report(y_all, y_hat))\n"
   ]
  },
  {
   "cell_type": "code",
   "execution_count": 67,
   "id": "10dd3a82-91ce-45d7-98e6-f6d8fb22daf5",
   "metadata": {},
   "outputs": [
    {
     "data": {
      "image/png": "[encoded data removed]",
      "text/plain": [
       "<Figure size 640x480 with 2 Axes>"
      ]
     },
     "metadata": {},
     "output_type": "display_data"
    }
   ],
   "source": [
    "cm = confusion_matrix(y_all, y_hat, labels=clf.classes_)\n",
    "disp = ConfusionMatrixDisplay(confusion_matrix=cm,\n",
    "                              display_labels=clf.classes_)\n",
    "disp.plot()\n",
    "plt.show()"
   ]
  },
  {
   "cell_type": "code",
   "execution_count": null,
   "id": "8ea053b4-3bfd-4158-a1c6-cab214a31dcd",
   "metadata": {},
   "outputs": [],
   "source": []
  }
 ],
 "metadata": {
  "kernelspec": {
   "display_name": "msds",
   "language": "python",
   "name": "msds"
  },
  "language_info": {
   "codemirror_mode": {
    "name": "ipython",
    "version": 3
   },
   "file_extension": ".py",
   "mimetype": "text/x-python",
   "name": "python",
   "nbconvert_exporter": "python",
   "pygments_lexer": "ipython3",
   "version": "3.12.7"
  }
 },
 "nbformat": 4,
 "nbformat_minor": 5
}
